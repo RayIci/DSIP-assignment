{
 "cells": [
  {
   "attachments": {},
   "cell_type": "markdown",
   "metadata": {},
   "source": [
    "# DSIP Assignment - First and Second part\n",
    "\n",
    "***What we expect from you:*** Turn in your solution to all of the exercises keeping in mind that this is a\n",
    "good part of your exam. You are expected to work on the exercises after you studied the theory covered\n",
    "in class and the labs session we went through together. If you experience any difficulty go back to the\n",
    "material we covered, check the notes, and find out where you need to study more. You can ask questions\n",
    "anytime you want on what was covered in class and labs but you are not going to receive help on the\n",
    "exercises you find below."
   ]
  },
  {
   "cell_type": "code",
   "execution_count": 1,
   "metadata": {},
   "outputs": [],
   "source": [
    "# Imports\n",
    "import numpy as np"
   ]
  },
  {
   "attachments": {},
   "cell_type": "markdown",
   "metadata": {},
   "source": [
    "## Fourier Series\n",
    "Hand in a Python notebook which computes the Fourier expansion of a real valued\n",
    "function $f$ where:\n",
    "- $a$ is sampled uniformly in the interval $[−2, −1]$\n",
    "- $b$ is sampled uniformly in the interval $[1, 2]$\n",
    "- and the function $\\: f : [a, b] \\rightarrow \\mathbb{R} \\:$ is defined as\n",
    "\n",
    "\n",
    "$$\n",
    "\n",
    "f(t)=\n",
    "\n",
    "\\begin{cases}\n",
    "pe^{qt} \\sin({\\ln{(1+rt^2)}}) & t \\in [a,0) \\\\\n",
    "s & t \\in [0,b)\n",
    "\\end{cases}\n",
    "\n",
    "$$\n",
    "\n",
    "\n",
    "with $p$, $q$, $r$ and $s$ are sampled uniformly in the interval $[0, 1]$.<br >\n",
    "Comment the results you obtain, Gibbs phenomenon included, when using the first $20$ $40$, and $60$ harmonics"
   ]
  }
 ],
 "metadata": {
  "kernelspec": {
   "display_name": "Python 3",
   "language": "python",
   "name": "python3"
  },
  "language_info": {
   "codemirror_mode": {
    "name": "ipython",
    "version": 3
   },
   "file_extension": ".py",
   "mimetype": "text/x-python",
   "name": "python",
   "nbconvert_exporter": "python",
   "pygments_lexer": "ipython3",
   "version": "3.10.6"
  },
  "orig_nbformat": 4,
  "vscode": {
   "interpreter": {
    "hash": "916dbcbb3f70747c44a77c7bcd40155683ae19c65e1c03b4aa3499c5328201f1"
   }
  }
 },
 "nbformat": 4,
 "nbformat_minor": 2
}
